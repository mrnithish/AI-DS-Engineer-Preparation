{
 "cells": [
  {
   "cell_type": "markdown",
   "metadata": {},
   "source": [
    "## Spiral Matrix"
   ]
  },
  {
   "cell_type": "code",
   "execution_count": null,
   "metadata": {},
   "outputs": [
    {
     "name": "stdout",
     "output_type": "stream",
     "text": [
      "[1, 2, 3, 6, 9, 8, 7, 4, 5]\n"
     ]
    }
   ],
   "source": [
    "def zigzag_traversal(matrix):\n",
    "    rows,cols=len(matrix),len(matrix[0])\n",
    "    \n",
    "    top,bottom,left,right=0,rows-1,0,cols-1\n",
    "    res=[]\n",
    "    \n",
    "    while top <=bottom and left <=right:\n",
    "        \n",
    "        for i in range(left,right+1):\n",
    "            res.append(matrix[top][i])\n",
    "        top+=1\n",
    "        \n",
    "        for i in range(top,bottom+1):\n",
    "            res.append(matrix[i][right])\n",
    "        right-=1\n",
    "        \n",
    "        if top <=bottom:\n",
    "            for i in range(right,left-1,-1):\n",
    "                res.append(matrix[bottom][i])\n",
    "            bottom-=1\n",
    "                \n",
    "        if left <=right:\n",
    "            for i in range(bottom,top-1,-1):\n",
    "                res.append(matrix[i][left])\n",
    "            left+=1\n",
    "            \n",
    "    return res\n",
    "                \n",
    "matrix = [\n",
    "    [1,  2,  3],\n",
    "    [4,  5,  6],\n",
    "    [7,  8,  9]\n",
    "]\n",
    "\n",
    "print(zigzag_traversal(matrix))\n"
   ]
  },
  {
   "cell_type": "markdown",
   "metadata": {},
   "source": [
    "## ZigZag Matrix"
   ]
  },
  {
   "cell_type": "code",
   "execution_count": null,
   "metadata": {},
   "outputs": [
    {
     "name": "stdout",
     "output_type": "stream",
     "text": [
      "[1, 2, 4, 7, 5, 3, 6, 8, 9]\n"
     ]
    }
   ],
   "source": [
    "def zigzag_traversal(matrix):\n",
    "    if not matrix or not matrix[0]:\n",
    "        return []\n",
    "\n",
    "    rows, cols = len(matrix), len(matrix[0])\n",
    "    result = []\n",
    "    row, col = 0, 0\n",
    "    going_up = True  # Flag to track direction\n",
    "\n",
    "    while row < rows and col < cols:\n",
    "        result.append(matrix[row][col])\n",
    "        if going_up:\n",
    "            if col == cols - 1:  # Reached the last column, move down\n",
    "                row += 1\n",
    "                going_up = False\n",
    "            elif row == 0:  # Reached the first row, move right\n",
    "                col += 1\n",
    "                going_up = False\n",
    "            else:  # Move diagonally up-right\n",
    "                row -= 1\n",
    "                col += 1\n",
    "        else:\n",
    "            if row == rows - 1:  # Reached the last row, move right\n",
    "                col += 1\n",
    "                going_up = True\n",
    "            elif col == 0:  # Reached the first column, move down\n",
    "                row += 1\n",
    "                going_up = True\n",
    "            else:  # Move diagonally down-left\n",
    "                row += 1\n",
    "                col -= 1\n",
    "\n",
    "    return result\n",
    "\n",
    "# Example usage\n",
    "matrix = [\n",
    "    [1,  2,  3],\n",
    "    [4,  5,  6],\n",
    "    [7,  8,  9]\n",
    "]\n",
    "\n",
    "print(zigzag_traversal(matrix))\n"
   ]
  }
 ],
 "metadata": {
  "kernelspec": {
   "display_name": "base",
   "language": "python",
   "name": "python3"
  },
  "language_info": {
   "codemirror_mode": {
    "name": "ipython",
    "version": 3
   },
   "file_extension": ".py",
   "mimetype": "text/x-python",
   "name": "python",
   "nbconvert_exporter": "python",
   "pygments_lexer": "ipython3",
   "version": "3.12.4"
  }
 },
 "nbformat": 4,
 "nbformat_minor": 2
}
