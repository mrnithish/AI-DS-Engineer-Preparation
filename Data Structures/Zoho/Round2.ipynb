{
 "cells": [
  {
   "cell_type": "markdown",
   "metadata": {},
   "source": [
    "### 1. Replace every element with the greatest element on right side\n",
    "Last Updated: 06-05-2019\n",
    "Given an array of integers, replace every element with the next greatest element (greatest element on the right side) in the array. Since there is no element next to the last element, replace it with -1. \n",
    "\n",
    "For example, if the array is {16, 17, 4, 3, 5, 2}, \n",
    "\n",
    "then it should be modified to {17, 5, 5, 5, 2, -1}.\n"
   ]
  },
  {
   "cell_type": "code",
   "execution_count": 23,
   "metadata": {},
   "outputs": [
    {
     "name": "stdout",
     "output_type": "stream",
     "text": [
      "[17, 5, 5, 5, 2, -1]\n"
     ]
    }
   ],
   "source": [
    "'''\n",
    "o(n)rightMax=-1\n",
    "        for i in range(len(arr)-1,-1,-1):\n",
    "            newMax=max(rightMax,arr[i])\n",
    "            arr[i]=rightMax\n",
    "            rightMax=newMax\n",
    "        return arr'''\n",
    "\n",
    "def repG(arr):\n",
    "    n=len(arr)\n",
    "    for i in range(n):\n",
    "        ax=-1\n",
    "        for j in range(i+1,n):\n",
    "            ax=max(ax,arr[j])\n",
    "        arr[i]=ax\n",
    "    print(arr)\n",
    "\n",
    "x=[16,17,4,3,5,2]\n",
    "repG(x)"
   ]
  },
  {
   "cell_type": "markdown",
   "metadata": {},
   "source": [
    "### 2. Given a Boolean matrix mat[M][N] of size M X N, modify it such that if a matrix cell mat[i][j] is 1 then make its adjacent cells as 0."
   ]
  },
  {
   "cell_type": "code",
   "execution_count": 4,
   "metadata": {},
   "outputs": [
    {
     "name": "stdout",
     "output_type": "stream",
     "text": [
      "1 1 1 1\n",
      "1 1 1 1\n",
      "1 0 1 1\n"
     ]
    }
   ],
   "source": [
    "# python3 Code For Boolean Matrix Question\n",
    "# Using two extra arrays\n",
    "def booleanMatrix(mat):\n",
    "    rows = len(mat)\n",
    "    cols = len(mat[0])\n",
    "\n",
    "    # Arrays to keep track of rows and columns to be updated\n",
    "    rowMarker = [False] * rows\n",
    "    colMarker = [False] * cols\n",
    "\n",
    "    # First pass: Mark the rows and columns to be updated\n",
    "    for i in range(rows):\n",
    "        for j in range(cols):\n",
    "            if mat[i][j] == 1:\n",
    "                rowMarker[i] = True\n",
    "                colMarker[j] = True\n",
    "\n",
    "    # Second pass: Update the matrix\n",
    "    for i in range(rows):\n",
    "        for j in range(cols):\n",
    "            if rowMarker[i] or colMarker[j]:\n",
    "                mat[i][j] = 1\n",
    "\n",
    "if __name__ == \"__main__\":\n",
    "    arr = [[1, 0, 0, 1],\n",
    "           [0, 0, 1, 0],\n",
    "           [0, 0, 0, 0]]\n",
    "    booleanMatrix(arr)\n",
    "    for row in arr:\n",
    "        print(\" \".join(map(str,row)))\n"
   ]
  },
  {
   "cell_type": "markdown",
   "metadata": {},
   "source": [
    "### 3. Equilibrium index of an array is an index such that the sum of elements at lower indexes is equal to the sum of elements at higher indexes. For example, in an array A:\n",
    "Example :\n",
    "Input: A[] = {-7, 1, 5, 2, -4, 3, 0}\n",
    "Output: 3\n",
    "3 is an equilibrium index, because:\n",
    "A[0] + A[1] + A[2] = A[4] + A[5] + A[6]\n",
    "Input: A[] = {1, 2, 3}\n",
    "Output: -1\n"
   ]
  },
  {
   "cell_type": "code",
   "execution_count": null,
   "metadata": {},
   "outputs": [],
   "source": [
    "class Solution:\n",
    "    def pivotIndex(self, nums: List[int]) -> int:\n",
    "        prefixSum=0\n",
    "        total=sum(nums)\n",
    "\n",
    "        for pivot in range(len(nums)):\n",
    "            suffixSum = total - prefixSum - nums[pivot]\n",
    "            if prefixSum ==suffixSum:\n",
    "                return pivot\n",
    "            prefixSum+=nums[pivot]\n",
    "        return -1\n",
    "        "
   ]
  },
  {
   "cell_type": "markdown",
   "metadata": {},
   "source": [
    "### 4. In MS-Paint, when we take the brush to a pixel and click, the color of the region of that pixel is replaced with a new selected color. Following is the problem statement to do this task.\n",
    "Given a 2D screen, location of a pixel in the screen and a color, replace color of the given pixel and all adjacent same colored pixels with the given color.\n",
    "Example:\n",
    "Input:\n",
    "       screen[M][N] = {{1, 1, 1, 1, 1, 1, 1, 1},\n",
    "                      {1, 1, 1, 1, 1, 1, 0, 0},\n",
    "                      {1, 0, 0, 1, 1, 0, 1, 1},\n",
    "                      {1, 2, 2, 2, 2, 0, 1, 0},\n",
    "                      {1, 1, 1, 2, 2, 0, 1, 0},\n",
    "                      {1, 1, 1, 2, 2, 2, 2, 0},\n",
    "                      {1, 1, 1, 1, 1, 2, 1, 1},\n",
    "                      {1, 1, 1, 1, 1, 2, 2, 1},\n",
    "                      };\n",
    "    x = 4, y = 4, newColor = 3\n",
    "The values in the given 2D screen indicate colors of the pixels.\n",
    "x and y are coordinates of the brush, newColor is the color that\n",
    "should replace the previous color on screen[x][y] and all surrounding\n",
    "pixels with same color.\n",
    "\n",
    "Output:\n",
    "Screen should be changed to following.\n",
    "       screen[M][N] = {{1, 1, 1, 1, 1, 1, 1, 1},\n",
    "                      {1, 1, 1, 1, 1, 1, 0, 0},\n",
    "                      {1, 0, 0, 1, 1, 0, 1, 1},\n",
    "                      {1, 3, 3, 3, 3, 0, 1, 0},\n",
    "                      {1, 1, 1, 3, 3, 0, 1, 0},\n",
    "                      {1, 1, 1, 3, 3, 3, 3, 0},\n",
    "                      {1, 1, 1, 1, 1, 3, 1, 1},\n",
    "                      {1, 1, 1, 1, 1, 3, 3, 1},\n",
    "                      };\n"
   ]
  },
  {
   "cell_type": "code",
   "execution_count": null,
   "metadata": {},
   "outputs": [],
   "source": [
    "class Solution:\n",
    "    def floodFill(self, image: List[List[int]], sr: int, sc: int, color: int) -> List[List[int]]:\n",
    "        starting_point = image[sr][sc]\n",
    "\n",
    "        self.dfs(image,sr,sc,color,starting_point)\n",
    "\n",
    "        return image\n",
    "\n",
    "    def dfs(self,image,sr,sc,color,starting_point):\n",
    "        if sr<0 or sr> len(image)-1 or sc<0 or sc>len(image[0])-1 or image[sr][sc]==color or image[sr][sc]!=starting_point:\n",
    "            return\n",
    "\n",
    "\n",
    "        image[sr][sc]=color\n",
    "\n",
    "        self.dfs(image,sr+1,sc,color,starting_point)\n",
    "        self.dfs(image,sr-1,sc,color,starting_point)\n",
    "        self.dfs(image,sr,sc+1,color,starting_point)\n",
    "        self.dfs(image,sr,sc-1,color,starting_point)    \n",
    "\n",
    "        "
   ]
  },
  {
   "cell_type": "markdown",
   "metadata": {},
   "source": [
    "### 5. Given a matrix of 2D array of n rows and m coloumns. Print this matrix in ZIG-ZAG fashion as shown in figure.\n",
    " \n",
    "Example:\n",
    "Input: \n",
    "1 2 3\n",
    "4 5 6\n",
    "7 8 9\n",
    "Output: \n",
    "1 2 4 7 5 3 6 8 9\n",
    "\n"
   ]
  },
  {
   "cell_type": "code",
   "execution_count": 6,
   "metadata": {},
   "outputs": [
    {
     "name": "stdout",
     "output_type": "stream",
     "text": [
      "[1, 2, 4, 7, 5, 3, 6, 8, 9]\n"
     ]
    }
   ],
   "source": [
    "def zigzag_traversal(matrix):\n",
    "    if not matrix or not matrix[0]:\n",
    "        return []\n",
    "\n",
    "    rows, cols = len(matrix), len(matrix[0])\n",
    "    result = []\n",
    "    row, col = 0, 0\n",
    "    going_up = True  # Flag to track direction\n",
    "\n",
    "    while row < rows and col < cols:\n",
    "        result.append(matrix[row][col])\n",
    "\n",
    "        if going_up:\n",
    "            if col == cols - 1:  # Reached the last column, move down\n",
    "                row += 1\n",
    "                going_up = False\n",
    "            elif row == 0:  # Reached the first row, move right\n",
    "                col += 1\n",
    "                going_up = False\n",
    "            else:  # Move diagonally up-right\n",
    "                row -= 1\n",
    "                col += 1\n",
    "        else:\n",
    "            if row == rows - 1:  # Reached the last row, move right\n",
    "                col += 1\n",
    "                going_up = True\n",
    "            elif col == 0:  # Reached the first column, move down\n",
    "                row += 1\n",
    "                going_up = True\n",
    "            else:  # Move diagonally down-left\n",
    "                row += 1\n",
    "                col -= 1\n",
    "\n",
    "    return result\n",
    "\n",
    "# Example usage\n",
    "matrix = [\n",
    "    [1,  2,  3],\n",
    "    [4,  5,  6],\n",
    "    [7,  8,  9]\n",
    "]\n",
    "\n",
    "print(zigzag_traversal(matrix))\n"
   ]
  },
  {
   "cell_type": "markdown",
   "metadata": {},
   "source": [
    "### 6. Remove the duplicates in the String.\n",
    "\n",
    "\n",
    "Testcase 1:\n",
    "Input: Java1234\n",
    "Output: Javb1234 (Remove the second ‘a’ as it is duplicated)\n",
    "\n",
    "\n",
    "Testcase 2:\n",
    "Input: Python1223:\n",
    "Output: Python1234 (Replace the second 2 with 3, and replace 3 with 4 as 3 is replaced for the duplicated 2)\n",
    "\n",
    "Testcase 3:\n",
    "Input: aBuzZ9900\n",
    "Output: aBuzC9012\n",
    "\n",
    "(Replace the second ‘Z’ with ‘C’ as ‘a’ and ‘B’ are already there in the String. Replace with capital C as the letter to be replaced is capital Z. The second 9 turns out to be zero and the zero turns out to ‘1’ and the second zero turns out to ‘2’)\n"
   ]
  },
  {
   "cell_type": "code",
   "execution_count": null,
   "metadata": {},
   "outputs": [],
   "source": [
    "def dup(s):\n",
    "    n=len(s)\n",
    "    res=''\n",
    "    for i in s:\n",
    "        if "
   ]
  },
  {
   "cell_type": "markdown",
   "metadata": {},
   "source": [
    "7. Print whether the version is upgraded, downgraded or not changed according to the input given.\n",
    "example: \n",
    "Input : Version1 4.8.2 Version2 4.8.4 \n",
    "\n",
    "Output: upgraded, \n",
    "\n",
    "Input : Version1 4.0.2 Version2 4.8.4 \n",
    "\n",
    "Output: downgraded\n"
   ]
  },
  {
   "cell_type": "markdown",
   "metadata": {},
   "source": [
    "## 8. Q2. Print all possible subsets of the given array whose sum equal to given N.\n",
    "example: \n",
    "\n",
    "Input: {1, 2, 3, 4, 5} N=6 \n",
    "\n",
    "Output: {1, 2, 3}, {1, 5}, {2, 4}\n"
   ]
  },
  {
   "cell_type": "code",
   "execution_count": 13,
   "metadata": {},
   "outputs": [
    {
     "name": "stdout",
     "output_type": "stream",
     "text": [
      "[[], [1], [1, 2], [1, 2, 3], [1, 2, 3, 4], [1, 2, 3, 4, 5], [], [2], [2, 3], [2, 3, 4], [2, 3, 4, 5], [], [3], [3, 4], [3, 4, 5], [], [4], [4, 5], [], [5]]\n",
      "[[1, 2, 3]]\n"
     ]
    }
   ],
   "source": [
    "def solve(s,t):\n",
    "    text=[s[i:j] for i in range(len(s)) for j in range(i,len(s)+1)]\n",
    "    arr=[]\n",
    "    print(text)\n",
    "    for i in text:\n",
    "        if sum(i)==t:\n",
    "            arr.append(i)\n",
    "    print(arr)\n",
    "x=[1,2,3,4,5]\n",
    "t=6\n",
    "solve(x,t)"
   ]
  },
  {
   "cell_type": "markdown",
   "metadata": {},
   "source": [
    "### 9. Reverse the words in the given String1 from the first occurrence of String2 in String1 by maintaining white Spaces.\n",
    "example: \n",
    "\n",
    "String1 = Input: This is a test String only \n",
    "\n",
    "String2 = st Output: This is a only String test\n"
   ]
  },
  {
   "cell_type": "markdown",
   "metadata": {},
   "source": [
    "### 10. calculate Maximum number of chocolates can eat and Number of wrappers left in hand.\n",
    "\n",
    "Money: Total money one has to spend.\n",
    "Price: price per chocolate.\n",
    "wrappers: minimum number of wrappers for exchange choco: number of chocolate for wrappers.\n",
    "Max visit: Maximum number of times one can visit the shop.(if zero consider it infinite)\n",
    "\n",
    "example: \n",
    "\n",
    "input: Money:40 Price:1 wrappers:3 choco:1 Max visit:1 \n",
    "\n",
    "Output: \n",
    "total chocolate can eat: 53 wrappers left in hand:14\n"
   ]
  },
  {
   "cell_type": "code",
   "execution_count": 2,
   "metadata": {},
   "outputs": [
    {
     "name": "stdout",
     "output_type": "stream",
     "text": [
      "22\n"
     ]
    }
   ],
   "source": [
    "def choc(money,price,wrapers):\n",
    "\n",
    "    if money < price :\n",
    "        return 0\n",
    "    \n",
    "    choc=money//price\n",
    "\n",
    "    choc=choc+(choc-1)//(wrapers-1)\n",
    "\n",
    "    return choc\n",
    "\n",
    "Money=15\n",
    "Price=1\n",
    "wrappers=3\n",
    "choco=1\n",
    "\n",
    "print(choc(Money,Price,wrappers))"
   ]
  },
  {
   "cell_type": "markdown",
   "metadata": {},
   "source": [
    "3. Write a program to print the following output for the given input. You can assume the string is of odd length\n",
    "\n",
    "Eg 1: Input: 12345\n",
    "       Output:\n",
    "1       5\n",
    "  2   4\n",
    "    3\n",
    "  2  4\n",
    "1      5\n",
    "Eg 2: Input: geeksforgeeks\n",
    "         Output:\n",
    "g                         s\n",
    "  e                     k\n",
    "    e                 e\n",
    "      k             e\n",
    "        s         g\n",
    "          f      r\n",
    "             o\n",
    "          f     r\n",
    "        s         g\n",
    "      k             e\n",
    "    e                 e\n",
    "  e                      k\n",
    "g                          s "
   ]
  },
  {
   "cell_type": "code",
   "execution_count": 1,
   "metadata": {},
   "outputs": [
    {
     "name": "stdout",
     "output_type": "stream",
     "text": [
      "p           p  \n",
      "  r       r    \n",
      "    o   o      \n",
      "      g        \n",
      "    r   r      \n",
      "  a       a    \n",
      "m           m  \n"
     ]
    }
   ],
   "source": [
    "def solve(s,n):\n",
    "    d=list(s)\n",
    "    for i in range(n):\n",
    "        k=n-i-1\n",
    "        for j in range(n):\n",
    "            if j==i or j==k:\n",
    "                print(d[i],end=\" \")\n",
    "            else:\n",
    "                print(\" \",end=\" \")\n",
    "        print(\" \")\n",
    "    \n",
    "s='program'\n",
    "n=len(s)\n",
    "solve(s,n)"
   ]
  },
  {
   "cell_type": "markdown",
   "metadata": {},
   "source": [
    "Given two binary numbers add the two numbers in binary form without converting them to decimal value."
   ]
  },
  {
   "cell_type": "code",
   "execution_count": 5,
   "metadata": {},
   "outputs": [],
   "source": [
    "class Solution:\n",
    "  def addBinary(self, a: str, b: str) -> str:\n",
    "    s = []\n",
    "    carry = 0\n",
    "    i = len(a) - 1\n",
    "    j = len(b) - 1\n",
    "\n",
    "    while i >= 0 or j >= 0 or carry:\n",
    "      if i >= 0:\n",
    "        carry += int(a[i])\n",
    "        i -= 1\n",
    "      if j >= 0:\n",
    "        carry += int(b[j])\n",
    "        j -= 1\n",
    "      s.append(str(carry % 2))\n",
    "      carry //= 2\n",
    "    return ''.join(reversed(s))"
   ]
  },
  {
   "cell_type": "code",
   "execution_count": null,
   "metadata": {},
   "outputs": [],
   "source": []
  }
 ],
 "metadata": {
  "kernelspec": {
   "display_name": "base",
   "language": "python",
   "name": "python3"
  },
  "language_info": {
   "codemirror_mode": {
    "name": "ipython",
    "version": 3
   },
   "file_extension": ".py",
   "mimetype": "text/x-python",
   "name": "python",
   "nbconvert_exporter": "python",
   "pygments_lexer": "ipython3",
   "version": "3.12.4"
  }
 },
 "nbformat": 4,
 "nbformat_minor": 2
}
