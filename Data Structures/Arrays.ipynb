{
 "cells": [
  {
   "cell_type": "markdown",
   "metadata": {},
   "source": [
    "# Kadane's Algorithm"
   ]
  },
  {
   "cell_type": "markdown",
   "metadata": {},
   "source": [
    "Current sum and maxsum compare both \n",
    "if current sum is negative change the new subarray else extend the array"
   ]
  },
  {
   "cell_type": "markdown",
   "metadata": {},
   "source": [
    "## Maximum Sum  Subarray"
   ]
  },
  {
   "cell_type": "code",
   "execution_count": null,
   "metadata": {},
   "outputs": [
    {
     "name": "stdout",
     "output_type": "stream",
     "text": [
      "The maximum subarray sum is: 6\n"
     ]
    }
   ],
   "source": [
    "\n",
    "def maxSubarraySum(arr, n):\n",
    "    ans=float('-inf')\n",
    "    curSum=0\n",
    "    for num in arr:\n",
    "        curSum+=num\n",
    "        if curSum > ans :\n",
    "            ans=curSum\n",
    "        if curSum<0: ## negative values change to zero\n",
    "            curSum=0\n",
    "    return ans\n",
    "arr = [-2, 1, -3, 4, -1, 2, 1, -5, 4]\n",
    "n = len(arr)\n",
    "maxSum = maxSubarraySum(arr, n)\n",
    "print(\"The maximum subarray sum is:\", maxSum)\n",
    "\n"
   ]
  },
  {
   "cell_type": "code",
   "execution_count": null,
   "metadata": {},
   "outputs": [],
   "source": [
    "class Solution:\n",
    "    def maxSubArray(self, nums: List[int]) -> int:\n",
    "        currentSum=nums[0]\n",
    "        maxSum=nums[0]\n",
    "        for i in range(1,len(nums)):\n",
    "            currentSum=max(nums[i],nums[i]+currentSum)\n",
    "            maxSum=max(currentSum,maxSum)\n",
    "        return maxSum"
   ]
  },
  {
   "cell_type": "markdown",
   "metadata": {},
   "source": [
    "# Maximum Product Subarray"
   ]
  },
  {
   "cell_type": "code",
   "execution_count": null,
   "metadata": {},
   "outputs": [
    {
     "name": "stdout",
     "output_type": "stream",
     "text": [
      "The maximum subarray sum is: 6\n"
     ]
    }
   ],
   "source": [
    "class Solution:\n",
    "  def maxProduct(nums) -> int:\n",
    "        res=float('-inf')\n",
    "        cur_max=cur_min=1\n",
    "        for num in nums:\n",
    "            temp=cur_max*num\n",
    "            cur_max=max(temp,cur_min*num,num)\n",
    "            cur_min=min(temp,cur_min*num,num)\n",
    "            res=max(res,cur_max)\n",
    "        return res\n",
    "  \n",
    "arr = [2,3,-2,4]\n",
    "n = len(arr)\n",
    "maxSum = Solution.maxProduct(arr)\n",
    "print(\"The maximum subarray sum is:\", maxSum)"
   ]
  },
  {
   "cell_type": "code",
   "execution_count": null,
   "metadata": {},
   "outputs": [
    {
     "name": "stdout",
     "output_type": "stream",
     "text": [
      "The maximum subarray sum is: 6\n"
     ]
    }
   ],
   "source": [
    "class Solution:\n",
    "  def maxProduct(nums,n) -> int:\n",
    "    cur_max=nums[0]\n",
    "    cur_min=nums[0]\n",
    "    res=nums[0]\n",
    "    for i in range(1,n):\n",
    "      temp=cur_max*nums[i]\n",
    "      cur_max=max(temp,cur_min*nums[i],nums[i])\n",
    "      cur_min=min(temp,cur_min*nums[i],nums[i])\n",
    "      res=max(res,cur_max)\n",
    "    return res\n",
    "arr = [2,3,-2,4]\n",
    "n = len(arr)\n",
    "maxSum = Solution.maxProduct(arr,n)\n",
    "print(\"The maximum subarray sum is:\", maxSum)"
   ]
  },
  {
   "cell_type": "markdown",
   "metadata": {},
   "source": [
    "# One Pass Search\n",
    "\n",
    "The idea is to keep track of the largest and second largest element while traversing the array. Initialize largest and secondLargest with -1. Now, for any index i,\n",
    "\n",
    "\n",
    "If arr[i] > largest, update secondLargest with largest and largest with arr[i].\n",
    "Else If arr[i] < largest and arr[i] > secondLargest, update secondLargest with arr[i].\n",
    "\n",
    "# Two Pass Search\n",
    "The approach is to traverse the array twice. In the first traversal, find the maximum element. In the second traversal, find the maximum element ignoring the one we found in the first traversal."
   ]
  },
  {
   "cell_type": "markdown",
   "metadata": {},
   "source": [
    "## Second Largest Element in an Array\n",
    "\n",
    "Given an array of positive integers arr[] of size n, the task is to find second largest distinct element in the array.\n",
    "\n",
    "Note: If the second largest element does not exist, return -1.\n",
    "\n",
    "Examples:\n",
    "\n",
    "Input: arr[] = [12, 35, 1, 10, 34, 1]\n",
    "Output: 34\n",
    "Explanation: The largest element of the array is 35 and the second largest element is 34."
   ]
  },
  {
   "cell_type": "code",
   "execution_count": 5,
   "metadata": {},
   "outputs": [
    {
     "name": "stdout",
     "output_type": "stream",
     "text": [
      "34\n"
     ]
    }
   ],
   "source": [
    "def getSecondLargest(arr):\n",
    "    largest=-1\n",
    "    secondlargest =-1\n",
    "\n",
    "    for i in range(len(arr)):\n",
    "        if arr[i]>largest:\n",
    "            secondlargest=largest\n",
    "            largest=arr[i]\n",
    "\n",
    "        elif arr[i]<largest and arr[i]>secondlargest:\n",
    "            secondlargest=arr[i]\n",
    "    return secondlargest\n",
    "if __name__ == \"__main__\":\n",
    "    arr = [12, 35, 1, 10, 34, 1]\n",
    "    print(getSecondLargest(arr))"
   ]
  },
  {
   "cell_type": "markdown",
   "metadata": {},
   "source": [
    "## Third largest element in an array of distinct elements\n",
    "\n",
    "Given an array of n integers, the task is to find the third largest element. All the elements in the array are distinct integers. \n",
    "\n",
    "Examples : \n",
    "\n",
    "Input: arr[] = {1, 14, 2, 16, 10, 20}\n",
    "Output: 14\n",
    "Explanation: Largest element is 20, second largest element is 16 and third largest element is 14\n",
    "\n",
    "Input: arr[] = {19, -10, 20, 14, 2, 16, 10}\n",
    "Output: 16\n",
    "Explanation: Largest element is 20, second largest element is 19 and third largest element is 16"
   ]
  },
  {
   "cell_type": "code",
   "execution_count": 6,
   "metadata": {},
   "outputs": [
    {
     "name": "stdout",
     "output_type": "stream",
     "text": [
      "14\n"
     ]
    }
   ],
   "source": [
    "def thirdLargest(arr):\n",
    "    n = len(arr)\n",
    "    \n",
    "    first, second, third = float('-inf'), float('-inf'), float('-inf')\n",
    "    \n",
    "    for i in range(n):\n",
    "        if arr[i] > first:\n",
    "            third = second\n",
    "            second = first\n",
    "            first = arr[i]\n",
    "\n",
    "        elif arr[i] > second:\n",
    "            third = second\n",
    "            second = arr[i]\n",
    "\n",
    "        elif arr[i] > third:\n",
    "            third = arr[i]\n",
    "    return third\n",
    "\n",
    "if __name__ == \"__main__\":\n",
    "    arr = [1, 14, 2, 16, 10, 20]\n",
    "    print(thirdLargest(arr))\n"
   ]
  }
 ],
 "metadata": {
  "kernelspec": {
   "display_name": "base",
   "language": "python",
   "name": "python3"
  },
  "language_info": {
   "codemirror_mode": {
    "name": "ipython",
    "version": 3
   },
   "file_extension": ".py",
   "mimetype": "text/x-python",
   "name": "python",
   "nbconvert_exporter": "python",
   "pygments_lexer": "ipython3",
   "version": "3.12.4"
  }
 },
 "nbformat": 4,
 "nbformat_minor": 2
}
