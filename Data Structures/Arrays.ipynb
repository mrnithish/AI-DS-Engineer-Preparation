{
 "cells": [
  {
   "cell_type": "markdown",
   "metadata": {},
   "source": [
    "# Kadane's Algorithm"
   ]
  },
  {
   "cell_type": "markdown",
   "metadata": {},
   "source": [
    "Current sum and maxsum compare both \n",
    "if current sum is negative change the new subarray else extend the array"
   ]
  },
  {
   "cell_type": "markdown",
   "metadata": {},
   "source": [
    "## Maximum Sum  Subarray"
   ]
  },
  {
   "cell_type": "code",
   "execution_count": null,
   "metadata": {},
   "outputs": [
    {
     "name": "stdout",
     "output_type": "stream",
     "text": [
      "The maximum subarray sum is: 6\n"
     ]
    }
   ],
   "source": [
    "\n",
    "def maxSubarraySum(arr, n):\n",
    "    ans=float('-inf')\n",
    "    curSum=0\n",
    "    for num in arr:\n",
    "        curSum+=num\n",
    "        if curSum > ans :\n",
    "            ans=curSum\n",
    "        if curSum<0: ## negative values change to zero\n",
    "            curSum=0\n",
    "    return ans\n",
    "arr = [-2, 1, -3, 4, -1, 2, 1, -5, 4]\n",
    "n = len(arr)\n",
    "maxSum = maxSubarraySum(arr, n)\n",
    "print(\"The maximum subarray sum is:\", maxSum)\n",
    "\n"
   ]
  },
  {
   "cell_type": "code",
   "execution_count": null,
   "metadata": {},
   "outputs": [],
   "source": [
    "class Solution:\n",
    "    def maxSubArray(self, nums: List[int]) -> int:\n",
    "        currentSum=nums[0]\n",
    "        maxSum=nums[0]\n",
    "        for i in range(1,len(nums)):\n",
    "            currentSum=max(nums[i],nums[i]+currentSum)\n",
    "            maxSum=max(currentSum,maxSum)\n",
    "        return maxSum"
   ]
  },
  {
   "cell_type": "markdown",
   "metadata": {},
   "source": [
    "# Maximum Product Subarray"
   ]
  },
  {
   "cell_type": "code",
   "execution_count": null,
   "metadata": {},
   "outputs": [
    {
     "name": "stdout",
     "output_type": "stream",
     "text": [
      "The maximum subarray sum is: 6\n"
     ]
    }
   ],
   "source": [
    "class Solution:\n",
    "  def maxProduct(nums) -> int:\n",
    "        res=float('-inf')\n",
    "        cur_max=cur_min=1\n",
    "        for num in nums:\n",
    "            temp=cur_max*num\n",
    "            cur_max=max(temp,cur_min*num,num)\n",
    "            cur_min=min(temp,cur_min*num,num)\n",
    "            res=max(res,cur_max)\n",
    "        return res\n",
    "  \n",
    "arr = [2,3,-2,4]\n",
    "n = len(arr)\n",
    "maxSum = Solution.maxProduct(arr)\n",
    "print(\"The maximum subarray sum is:\", maxSum)"
   ]
  },
  {
   "cell_type": "code",
   "execution_count": null,
   "metadata": {},
   "outputs": [
    {
     "name": "stdout",
     "output_type": "stream",
     "text": [
      "The maximum subarray sum is: 6\n"
     ]
    }
   ],
   "source": [
    "class Solution:\n",
    "  def maxProduct(nums,n) -> int:\n",
    "    cur_max=nums[0]\n",
    "    cur_min=nums[0]\n",
    "    res=nums[0]\n",
    "    for i in range(1,n):\n",
    "      temp=cur_max*nums[i]\n",
    "      cur_max=max(temp,cur_min*nums[i],nums[i])\n",
    "      cur_min=min(temp,cur_min*nums[i],nums[i])\n",
    "      res=max(res,cur_max)\n",
    "    return res\n",
    "arr = [2,3,-2,4]\n",
    "n = len(arr)\n",
    "maxSum = Solution.maxProduct(arr,n)\n",
    "print(\"The maximum subarray sum is:\", maxSum)"
   ]
  }
 ],
 "metadata": {
  "kernelspec": {
   "display_name": "base",
   "language": "python",
   "name": "python3"
  },
  "language_info": {
   "codemirror_mode": {
    "name": "ipython",
    "version": 3
   },
   "file_extension": ".py",
   "mimetype": "text/x-python",
   "name": "python",
   "nbconvert_exporter": "python",
   "pygments_lexer": "ipython3",
   "version": "3.12.4"
  }
 },
 "nbformat": 4,
 "nbformat_minor": 2
}
