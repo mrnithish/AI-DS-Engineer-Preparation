{
 "cells": [
  {
   "cell_type": "markdown",
   "metadata": {},
   "source": [
    "# Kadane's Algorithm"
   ]
  },
  {
   "cell_type": "markdown",
   "metadata": {},
   "source": [
    "Current sum and maxsum compare both \n",
    "if current sum is negative change the new subarray else extend the array"
   ]
  },
  {
   "cell_type": "markdown",
   "metadata": {},
   "source": [
    "## Maximum Sum  Subarray"
   ]
  },
  {
   "cell_type": "code",
   "execution_count": null,
   "metadata": {},
   "outputs": [
    {
     "name": "stdout",
     "output_type": "stream",
     "text": [
      "The maximum subarray sum is: 6\n"
     ]
    }
   ],
   "source": [
    "\n",
    "def maxSubarraySum(arr, n):\n",
    "    ans=float('-inf')\n",
    "    curSum=0\n",
    "    for num in arr:\n",
    "        curSum+=num\n",
    "        if curSum > ans :\n",
    "            ans=curSum\n",
    "        if curSum<0: ## negative values change to zero\n",
    "            curSum=0\n",
    "    return ans\n",
    "arr = [-2, 1, -3, 4, -1, 2, 1, -5, 4]\n",
    "n = len(arr)\n",
    "maxSum = maxSubarraySum(arr, n)\n",
    "print(\"The maximum subarray sum is:\", maxSum)\n",
    "\n"
   ]
  },
  {
   "cell_type": "code",
   "execution_count": null,
   "metadata": {},
   "outputs": [],
   "source": [
    "class Solution:\n",
    "    def maxSubArray(self, nums: List[int]) -> int:\n",
    "        currentSum=nums[0]\n",
    "        maxSum=nums[0]\n",
    "        for i in range(1,len(nums)):\n",
    "            currentSum=max(nums[i],nums[i]+currentSum)\n",
    "            maxSum=max(currentSum,maxSum)\n",
    "        return maxSum"
   ]
  },
  {
   "cell_type": "markdown",
   "metadata": {},
   "source": [
    "# Maximum Product Subarray"
   ]
  },
  {
   "cell_type": "code",
   "execution_count": null,
   "metadata": {},
   "outputs": [
    {
     "name": "stdout",
     "output_type": "stream",
     "text": [
      "The maximum subarray sum is: 6\n"
     ]
    }
   ],
   "source": [
    "class Solution:\n",
    "  def maxProduct(nums) -> int:\n",
    "        res=float('-inf')\n",
    "        cur_max=cur_min=1\n",
    "        for num in nums:\n",
    "            temp=cur_max*num\n",
    "            cur_max=max(temp,cur_min*num,num)\n",
    "            cur_min=min(temp,cur_min*num,num)\n",
    "            res=max(res,cur_max)\n",
    "        return res\n",
    "  \n",
    "arr = [2,3,-2,4]\n",
    "n = len(arr)\n",
    "maxSum = Solution.maxProduct(arr)\n",
    "print(\"The maximum subarray sum is:\", maxSum)"
   ]
  },
  {
   "cell_type": "code",
   "execution_count": null,
   "metadata": {},
   "outputs": [
    {
     "name": "stdout",
     "output_type": "stream",
     "text": [
      "The maximum subarray sum is: 6\n"
     ]
    }
   ],
   "source": [
    "class Solution:\n",
    "  def maxProduct(nums,n) -> int:\n",
    "    cur_max=nums[0]\n",
    "    cur_min=nums[0]\n",
    "    res=nums[0]\n",
    "    for i in range(1,n):\n",
    "      temp=cur_max*nums[i]\n",
    "      cur_max=max(temp,cur_min*nums[i],nums[i])\n",
    "      cur_min=min(temp,cur_min*nums[i],nums[i])\n",
    "      res=max(res,cur_max)\n",
    "    return res\n",
    "arr = [2,3,-2,4]\n",
    "n = len(arr)\n",
    "maxSum = Solution.maxProduct(arr,n)\n",
    "print(\"The maximum subarray sum is:\", maxSum)"
   ]
  },
  {
   "cell_type": "markdown",
   "metadata": {},
   "source": [
    "# One Pass Search\n",
    "\n",
    "The idea is to keep track of the largest and second largest element while traversing the array. Initialize largest and secondLargest with -1. Now, for any index i,\n",
    "\n",
    "\n",
    "If arr[i] > largest, update secondLargest with largest and largest with arr[i].\n",
    "Else If arr[i] < largest and arr[i] > secondLargest, update secondLargest with arr[i].\n",
    "\n",
    "# Two Pass Search\n",
    "The approach is to traverse the array twice. In the first traversal, find the maximum element. In the second traversal, find the maximum element ignoring the one we found in the first traversal."
   ]
  },
  {
   "cell_type": "markdown",
   "metadata": {},
   "source": [
    "## Second Largest Element in an Array\n",
    "\n",
    "Given an array of positive integers arr[] of size n, the task is to find second largest distinct element in the array.\n",
    "\n",
    "Note: If the second largest element does not exist, return -1.\n",
    "\n",
    "Examples:\n",
    "\n",
    "Input: arr[] = [12, 35, 1, 10, 34, 1]\n",
    "Output: 34\n",
    "Explanation: The largest element of the array is 35 and the second largest element is 34."
   ]
  },
  {
   "cell_type": "code",
   "execution_count": 5,
   "metadata": {},
   "outputs": [
    {
     "name": "stdout",
     "output_type": "stream",
     "text": [
      "34\n"
     ]
    }
   ],
   "source": [
    "def getSecondLargest(arr):\n",
    "    largest=-1\n",
    "    secondlargest =-1\n",
    "\n",
    "    for i in range(len(arr)):\n",
    "        if arr[i]>largest:\n",
    "            secondlargest=largest\n",
    "            largest=arr[i]\n",
    "\n",
    "        elif arr[i]<largest and arr[i]>secondlargest:\n",
    "            secondlargest=arr[i]\n",
    "    return secondlargest\n",
    "if __name__ == \"__main__\":\n",
    "    arr = [12, 35, 1, 10, 34, 1]\n",
    "    print(getSecondLargest(arr))"
   ]
  },
  {
   "cell_type": "markdown",
   "metadata": {},
   "source": [
    "## Third largest element in an array of distinct elements\n",
    "\n",
    "Given an array of n integers, the task is to find the third largest element. All the elements in the array are distinct integers. \n",
    "\n",
    "Examples : \n",
    "\n",
    "Input: arr[] = {1, 14, 2, 16, 10, 20}\n",
    "Output: 14\n",
    "Explanation: Largest element is 20, second largest element is 16 and third largest element is 14\n",
    "\n",
    "Input: arr[] = {19, -10, 20, 14, 2, 16, 10}\n",
    "Output: 16\n",
    "Explanation: Largest element is 20, second largest element is 19 and third largest element is 16"
   ]
  },
  {
   "cell_type": "code",
   "execution_count": 6,
   "metadata": {},
   "outputs": [
    {
     "name": "stdout",
     "output_type": "stream",
     "text": [
      "14\n"
     ]
    }
   ],
   "source": [
    "def thirdLargest(arr):\n",
    "    n = len(arr)\n",
    "    \n",
    "    first, second, third = float('-inf'), float('-inf'), float('-inf')\n",
    "    \n",
    "    for i in range(n):\n",
    "        if arr[i] > first:\n",
    "            third = second\n",
    "            second = first\n",
    "            first = arr[i]\n",
    "\n",
    "        elif arr[i] > second:\n",
    "            third = second\n",
    "            second = arr[i]\n",
    "\n",
    "        elif arr[i] > third:\n",
    "            third = arr[i]\n",
    "    return third\n",
    "\n",
    "if __name__ == \"__main__\":\n",
    "    arr = [1, 14, 2, 16, 10, 20]\n",
    "    print(thirdLargest(arr))\n"
   ]
  },
  {
   "cell_type": "markdown",
   "metadata": {},
   "source": [
    "977. Squares of a Sorted Array\n",
    "Solved\n",
    "Easy\n",
    "Topics\n",
    "Companies\n",
    "Given an integer array nums sorted in non-decreasing order, return an array of the squares of each number sorted in non-decreasing order.\n",
    "\n",
    " \n",
    "\n",
    "Example 1:\n",
    "\n",
    "Input: nums = [-4,-1,0,3,10]\n",
    "Output: [0,1,9,16,100]\n",
    "Explanation: After squaring, the array becomes [16,1,0,9,100].\n",
    "After sorting, it becomes [0,1,9,16,100].\n",
    "Example 2:\n",
    "\n",
    "Input: nums = [-7,-3,2,3,11]\n",
    "Output: [4,9,9,49,121]\n",
    " \n",
    "\n",
    "Constraints:\n",
    "\n",
    "1 <= nums.length <= 104\n",
    "-104 <= nums[i] <= 104\n",
    "nums is sorted in non-decreasing order."
   ]
  },
  {
   "cell_type": "code",
   "execution_count": null,
   "metadata": {},
   "outputs": [],
   "source": [
    "class Solution:\n",
    "    def sortedSquares(self, nums: List[int]) -> List[int]:\n",
    "        n=len(nums)\n",
    "        l=0\n",
    "        r=n-1\n",
    "        res=list()\n",
    "        while l <= r:\n",
    "            if abs(nums[l]) > abs(nums[r]):\n",
    "                res.append(nums[l]**2)\n",
    "                l+=1\n",
    "            else:\n",
    "                res.append(nums[r]**2)\n",
    "                r-=1\n",
    "        return res[::-1]\n",
    "\n",
    "        "
   ]
  },
  {
   "cell_type": "markdown",
   "metadata": {},
   "source": [
    "3074. Apple Redistribution into Boxes\n",
    "Solved\n",
    "Easy\n",
    "Topics\n",
    "Companies\n",
    "Hint\n",
    "You are given an array apple of size n and an array capacity of size m.\n",
    "\n",
    "There are n packs where the ith pack contains apple[i] apples. There are m boxes as well, and the ith box has a capacity of capacity[i] apples.\n",
    "\n",
    "Return the minimum number of boxes you need to select to redistribute these n packs of apples into boxes.\n",
    "\n",
    "Note that, apples from the same pack can be distributed into different boxes.\n",
    "\n",
    " \n",
    "\n",
    "Example 1:\n",
    "\n",
    "Input: apple = [1,3,2], capacity = [4,3,1,5,2]\n",
    "Output: 2\n",
    "Explanation: We will use boxes with capacities 4 and 5.\n",
    "It is possible to distribute the apples as the total capacity is greater than or equal to the total number of apples.\n",
    "Example 2:\n",
    "\n",
    "Input: apple = [5,5,5], capacity = [2,4,2,7]\n",
    "Output: 4\n",
    "Explanation: We will need to use all the boxes.\n",
    " \n",
    "\n",
    "Constraints:\n",
    "\n",
    "1 <= n == apple.length <= 50\n",
    "1 <= m == capacity.length <= 50\n",
    "1 <= apple[i], capacity[i] <= 50\n",
    "The input is generated such that it's possible to redistribute packs of apples into boxes."
   ]
  },
  {
   "cell_type": "code",
   "execution_count": null,
   "metadata": {},
   "outputs": [],
   "source": [
    "class Solution:\n",
    "    def minimumBoxes(self, apple: List[int], capacity: List[int]) -> int:\n",
    "        apples=sum(apple)\n",
    "        capacity.sort(key=lambda b:-b)\n",
    "\n",
    "        box=0\n",
    "        for i in capacity:\n",
    "            apples -=i \n",
    "            box+=1\n",
    "            if apples <=0:\n",
    "                return box\n",
    "        return box\n",
    "        "
   ]
  }
 ],
 "metadata": {
  "kernelspec": {
   "display_name": "base",
   "language": "python",
   "name": "python3"
  },
  "language_info": {
   "codemirror_mode": {
    "name": "ipython",
    "version": 3
   },
   "file_extension": ".py",
   "mimetype": "text/x-python",
   "name": "python",
   "nbconvert_exporter": "python",
   "pygments_lexer": "ipython3",
   "version": "3.12.4"
  }
 },
 "nbformat": 4,
 "nbformat_minor": 2
}
