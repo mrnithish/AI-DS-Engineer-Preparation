{
 "cells": [
  {
   "cell_type": "markdown",
   "metadata": {},
   "source": [
    "# Strings"
   ]
  },
  {
   "cell_type": "markdown",
   "metadata": {},
   "source": [
    "Check if a given string is palindrome or not"
   ]
  },
  {
   "cell_type": "code",
   "execution_count": null,
   "metadata": {},
   "outputs": [
    {
     "name": "stdout",
     "output_type": "stream",
     "text": [
      "True\n"
     ]
    }
   ],
   "source": [
    "def palindrome(n):\n",
    "    return n==n[::-1]\n",
    "    \n",
    "x=\"mom\"\n",
    "print(palindrome(x))"
   ]
  },
  {
   "cell_type": "markdown",
   "metadata": {},
   "source": [
    "Count number of vowels, consonants, spaces in String"
   ]
  },
  {
   "cell_type": "code",
   "execution_count": null,
   "metadata": {},
   "outputs": [
    {
     "name": "stdout",
     "output_type": "stream",
     "text": [
      "{'consonants': 13, 'vowels': 8, 'space': 2}\n"
     ]
    }
   ],
   "source": [
    "def counts(x):\n",
    "    d=dict()\n",
    "    k,y,z=0,0,0\n",
    "    for i in x:\n",
    "        if i.lower() in ['a','e','i','o','u']:\n",
    "            k+=1\n",
    "            d.update({\"vowels\":k})\n",
    "        elif i == \" \":\n",
    "            y+=1\n",
    "            d.update({\"space\" : y})\n",
    "        else:\n",
    "            z+=1\n",
    "            d.update({\"consonants\":z})\n",
    "    return d\n",
    "\n",
    "x=\"Hi Bro !This is a training\"\n",
    "print(counts(x))"
   ]
  },
  {
   "cell_type": "markdown",
   "metadata": {},
   "source": [
    "Find the ASCII value of a character"
   ]
  },
  {
   "cell_type": "code",
   "execution_count": 21,
   "metadata": {},
   "outputs": [
    {
     "name": "stdout",
     "output_type": "stream",
     "text": [
      "65\n"
     ]
    }
   ],
   "source": [
    "print(ord('A'))"
   ]
  },
  {
   "cell_type": "markdown",
   "metadata": {},
   "source": [
    "Remove all vowels from the string "
   ]
  },
  {
   "cell_type": "code",
   "execution_count": 33,
   "metadata": {},
   "outputs": [
    {
     "name": "stdout",
     "output_type": "stream",
     "text": [
      "['H Br !Ths s  trnng']\n"
     ]
    }
   ],
   "source": [
    "def counts(x):\n",
    "    s=\"\"\n",
    "    for i in x:\n",
    "        if i.lower() in ['a','e','i','o','u']:\n",
    "            pass\n",
    "        else:\n",
    "            s+=i\n",
    "    return [s]\n",
    "\n",
    "\n",
    "x=\"Hi Bro !This is a training\"\n",
    "print(counts(x))"
   ]
  },
  {
   "cell_type": "markdown",
   "metadata": {},
   "source": [
    "Remove spaces from a string"
   ]
  },
  {
   "cell_type": "code",
   "execution_count": 34,
   "metadata": {},
   "outputs": [
    {
     "name": "stdout",
     "output_type": "stream",
     "text": [
      "['HiBro!Thisisatraining']\n"
     ]
    }
   ],
   "source": [
    "def counts(x):\n",
    "    s=\"\"\n",
    "    for i in x:\n",
    "        if i==\" \":\n",
    "            pass\n",
    "        else:\n",
    "            s+=i\n",
    "    return [s]\n",
    "\n",
    "\n",
    "x=\"Hi Bro !This is a training\"\n",
    "print(counts(x))"
   ]
  },
  {
   "cell_type": "markdown",
   "metadata": {},
   "source": [
    "Remove characters from a string except alphabets"
   ]
  },
  {
   "cell_type": "code",
   "execution_count": 36,
   "metadata": {},
   "outputs": [
    {
     "name": "stdout",
     "output_type": "stream",
     "text": [
      "['HiBroThisisatraining']\n"
     ]
    }
   ],
   "source": [
    "def counts(x):\n",
    "    s=\"\"\n",
    "    for i in x:\n",
    "        if i.isalpha():\n",
    "            s+=i\n",
    "        else:\n",
    "            pass\n",
    "    return [s]\n",
    "\n",
    "\n",
    "x=\"Hi Bro !This is a training\"\n",
    "print(counts(x))"
   ]
  },
  {
   "cell_type": "markdown",
   "metadata": {},
   "source": [
    "Reverse a String"
   ]
  },
  {
   "cell_type": "code",
   "execution_count": 38,
   "metadata": {},
   "outputs": [
    {
     "name": "stdout",
     "output_type": "stream",
     "text": [
      "<reversed object at 0x000001BF3F2C4D00>\n",
      "mgsfdfgdsom\n"
     ]
    }
   ],
   "source": [
    "def rev(n):\n",
    "    return n[::-1]\n",
    "    \n",
    "x=\"mosdgfdfsgm\"\n",
    "print(reversed(x))\n",
    "print(rev(x))"
   ]
  },
  {
   "cell_type": "markdown",
   "metadata": {},
   "source": [
    "Given a string S containing alphanumeric characters, The task is to calculate the sum of all numbers present in the string.\n",
    "\n",
    "Examples: \n",
    "\n",
    "\n",
    "Input:  1abc23\n",
    "Output: 24\n",
    "Explanation: 1 + 23 = 24\n",
    "\n",
    "\n",
    "Input:  geeks4geeks\n",
    "Output: 4\n",
    "\n",
    "\n",
    "Input:  1abc2x30yz67\n",
    "Output: 100\n",
    "\n"
   ]
  },
  {
   "cell_type": "code",
   "execution_count": 41,
   "metadata": {},
   "outputs": [
    {
     "name": "stdout",
     "output_type": "stream",
     "text": [
      "24\n"
     ]
    }
   ],
   "source": [
    "def s(x):\n",
    "    temp=\"0\"\n",
    "    sum=0\n",
    "    for i in x:\n",
    "        if i.isdigit():\n",
    "            temp+=i\n",
    "        else:\n",
    "            sum+=int(temp)\n",
    "            temp=\"0\"\n",
    "    print(sum + int(temp))\n",
    "\n",
    "x=\"1abc23\"\n",
    "s(x)\n"
   ]
  },
  {
   "cell_type": "markdown",
   "metadata": {},
   "source": [
    "Python program to capitalize the first and last character of each word in a string"
   ]
  },
  {
   "cell_type": "code",
   "execution_count": null,
   "metadata": {},
   "outputs": [
    {
     "name": "stdout",
     "output_type": "stream",
     "text": [
      "HellOWorlD\n"
     ]
    }
   ],
   "source": [
    "s=\"hello world\"\n",
    "\n",
    "w=s.split()\n",
    "\n",
    "res=''.join([\n",
    "    i[0].upper() + i[1:-1] + i[-1].upper()\n",
    "    if len(w)>1 else w.upper()\n",
    "    for i in w\n",
    "])\n",
    "\n",
    "print(res)"
   ]
  }
 ],
 "metadata": {
  "kernelspec": {
   "display_name": "base",
   "language": "python",
   "name": "python3"
  },
  "language_info": {
   "codemirror_mode": {
    "name": "ipython",
    "version": 3
   },
   "file_extension": ".py",
   "mimetype": "text/x-python",
   "name": "python",
   "nbconvert_exporter": "python",
   "pygments_lexer": "ipython3",
   "version": "3.12.4"
  }
 },
 "nbformat": 4,
 "nbformat_minor": 2
}
